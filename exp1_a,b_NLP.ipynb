{
  "nbformat": 4,
  "nbformat_minor": 0,
  "metadata": {
    "colab": {
      "provenance": []
    },
    "kernelspec": {
      "name": "python3",
      "display_name": "Python 3"
    },
    "language_info": {
      "name": "python"
    }
  },
  "cells": [
    {
      "cell_type": "code",
      "execution_count": null,
      "metadata": {
        "id": "kWvp_l3gfmxR"
      },
      "outputs": [],
      "source": [
        "#!pip install nltk"
      ]
    },
    {
      "cell_type": "markdown",
      "source": [
        "**importing required libraries**"
      ],
      "metadata": {
        "id": "_ShNwdYAuBQt"
      }
    },
    {
      "cell_type": "code",
      "source": [
        "import nltk\n",
        "from nltk.tokenize import word_tokenize,sent_tokenize\n",
        "nltk.download('punkt')\n",
        "nltk.download('punkt_tab')\n",
        "import nltk\n",
        "from nltk.tokenize import word_tokenize, sent_tokenize"
      ],
      "metadata": {
        "colab": {
          "base_uri": "https://localhost:8080/"
        },
        "id": "L2Qtoa5Fkl8-",
        "outputId": "7772db97-f16d-40fd-d073-9ef6cd7f4494"
      },
      "execution_count": null,
      "outputs": [
        {
          "output_type": "stream",
          "name": "stderr",
          "text": [
            "[nltk_data] Downloading package punkt to /root/nltk_data...\n",
            "[nltk_data]   Package punkt is already up-to-date!\n",
            "[nltk_data] Downloading package punkt_tab to /root/nltk_data...\n",
            "[nltk_data]   Package punkt_tab is already up-to-date!\n"
          ]
        }
      ]
    },
    {
      "cell_type": "markdown",
      "source": [
        "**tokenizing words,sentences,paragraphs**"
      ],
      "metadata": {
        "id": "NIsNtkUxuUYu"
      }
    },
    {
      "cell_type": "code",
      "source": [
        "# Text for tokenization\n",
        "text = \"\"\"AI is playing a crucial role in transforming healthcare by helping doctors diagnose diseases early. Early detection of diseases like cancer, heart conditions, or even neurological disorders allows for more effective treatments and better outcomes for patients.\n",
        "\n",
        "Moreover, AI enables personalized treatment for each patient. By analyzing vast amounts of data, AI can help doctors create individualized treatment plans that are tailored to the unique needs of each person, improving the chances of successful treatment.\n",
        "\n",
        "This shift in how healthcare is approached can improve outcomes and reduce overall healthcare costs. By automating administrative tasks, improving diagnostic accuracy, and helping to streamline the treatment process, AI is making healthcare more efficient and accessible.\n",
        "\n",
        "Many hospitals now utilize AI to improve patient care. AI-driven tools like diagnostic algorithms, virtual health assistants, and predictive analytics are becoming an integral part of modern healthcare systems..\n",
        "\"\"\"\n",
        "\n",
        "# Using word tokenizer\n",
        "word_tokens = word_tokenize(text)\n",
        "\n",
        "# Using sentence tokenizer\n",
        "sentence_tokens = sent_tokenize(text)\n",
        "\n",
        "# Using paragraph tokenizer (sent_tokenize is for sentences, but we can assume paragraphs based on newlines)\n",
        "paragraph_tokens = text.split('\\n\\n')  # Splitting based on double newline for paragraphs\n",
        "\n",
        "# Print results\n",
        "print(\"Word Tokens:\", word_tokens)\n",
        "print(\"\\nSentence Tokens:\", sentence_tokens)\n",
        "print(\"\\nParagraph Tokens:\", paragraph_tokens)\n"
      ],
      "metadata": {
        "colab": {
          "base_uri": "https://localhost:8080/"
        },
        "id": "mzSUcNeNhk4V",
        "outputId": "f63324f2-3b49-4e53-ca34-e2896d7818a1"
      },
      "execution_count": null,
      "outputs": [
        {
          "output_type": "stream",
          "name": "stdout",
          "text": [
            "Word Tokens: ['AI', 'is', 'playing', 'a', 'crucial', 'role', 'in', 'transforming', 'healthcare', 'by', 'helping', 'doctors', 'diagnose', 'diseases', 'early', '.', 'Early', 'detection', 'of', 'diseases', 'like', 'cancer', ',', 'heart', 'conditions', ',', 'or', 'even', 'neurological', 'disorders', 'allows', 'for', 'more', 'effective', 'treatments', 'and', 'better', 'outcomes', 'for', 'patients', '.', 'Moreover', ',', 'AI', 'enables', 'personalized', 'treatment', 'for', 'each', 'patient', '.', 'By', 'analyzing', 'vast', 'amounts', 'of', 'data', ',', 'AI', 'can', 'help', 'doctors', 'create', 'individualized', 'treatment', 'plans', 'that', 'are', 'tailored', 'to', 'the', 'unique', 'needs', 'of', 'each', 'person', ',', 'improving', 'the', 'chances', 'of', 'successful', 'treatment', '.', 'This', 'shift', 'in', 'how', 'healthcare', 'is', 'approached', 'can', 'improve', 'outcomes', 'and', 'reduce', 'overall', 'healthcare', 'costs', '.', 'By', 'automating', 'administrative', 'tasks', ',', 'improving', 'diagnostic', 'accuracy', ',', 'and', 'helping', 'to', 'streamline', 'the', 'treatment', 'process', ',', 'AI', 'is', 'making', 'healthcare', 'more', 'efficient', 'and', 'accessible', '.', 'Many', 'hospitals', 'now', 'utilize', 'AI', 'to', 'improve', 'patient', 'care', '.', 'AI-driven', 'tools', 'like', 'diagnostic', 'algorithms', ',', 'virtual', 'health', 'assistants', ',', 'and', 'predictive', 'analytics', 'are', 'becoming', 'an', 'integral', 'part', 'of', 'modern', 'healthcare', 'systems', '..']\n",
            "\n",
            "Sentence Tokens: ['AI is playing a crucial role in transforming healthcare by helping doctors diagnose diseases early.', 'Early detection of diseases like cancer, heart conditions, or even neurological disorders allows for more effective treatments and better outcomes for patients.', 'Moreover, AI enables personalized treatment for each patient.', 'By analyzing vast amounts of data, AI can help doctors create individualized treatment plans that are tailored to the unique needs of each person, improving the chances of successful treatment.', 'This shift in how healthcare is approached can improve outcomes and reduce overall healthcare costs.', 'By automating administrative tasks, improving diagnostic accuracy, and helping to streamline the treatment process, AI is making healthcare more efficient and accessible.', 'Many hospitals now utilize AI to improve patient care.', 'AI-driven tools like diagnostic algorithms, virtual health assistants, and predictive analytics are becoming an integral part of modern healthcare systems..']\n",
            "\n",
            "Paragraph Tokens: ['AI is playing a crucial role in transforming healthcare by helping doctors diagnose diseases early. Early detection of diseases like cancer, heart conditions, or even neurological disorders allows for more effective treatments and better outcomes for patients.', 'Moreover, AI enables personalized treatment for each patient. By analyzing vast amounts of data, AI can help doctors create individualized treatment plans that are tailored to the unique needs of each person, improving the chances of successful treatment.', 'This shift in how healthcare is approached can improve outcomes and reduce overall healthcare costs. By automating administrative tasks, improving diagnostic accuracy, and helping to streamline the treatment process, AI is making healthcare more efficient and accessible.', 'Many hospitals now utilize AI to improve patient care. AI-driven tools like diagnostic algorithms, virtual health assistants, and predictive analytics are becoming an integral part of modern healthcare systems..\\n']\n"
          ]
        }
      ]
    },
    {
      "cell_type": "markdown",
      "source": [
        "**Sentences**"
      ],
      "metadata": {
        "id": "uuyDcxt-u0SP"
      }
    },
    {
      "cell_type": "code",
      "source": [
        "for i,sent in enumerate(sentence_tokens,1):\n",
        "  print(f\"{i},{sent}\")"
      ],
      "metadata": {
        "colab": {
          "base_uri": "https://localhost:8080/"
        },
        "id": "mLbSF4vflT79",
        "outputId": "c51c6660-eab4-4e9d-88f8-a5ea7cb4f4d3"
      },
      "execution_count": null,
      "outputs": [
        {
          "output_type": "stream",
          "name": "stdout",
          "text": [
            "1,AI is playing a crucial role in transforming healthcare by helping doctors diagnose diseases early.\n",
            "2,Early detection of diseases like cancer, heart conditions, or even neurological disorders allows for more effective treatments and better outcomes for patients.\n",
            "3,Moreover, AI enables personalized treatment for each patient.\n",
            "4,By analyzing vast amounts of data, AI can help doctors create individualized treatment plans that are tailored to the unique needs of each person, improving the chances of successful treatment.\n",
            "5,This shift in how healthcare is approached can improve outcomes and reduce overall healthcare costs.\n",
            "6,By automating administrative tasks, improving diagnostic accuracy, and helping to streamline the treatment process, AI is making healthcare more efficient and accessible.\n",
            "7,Many hospitals now utilize AI to improve patient care.\n",
            "8,AI-driven tools like diagnostic algorithms, virtual health assistants, and predictive analytics are becoming an integral part of modern healthcare systems..\n"
          ]
        }
      ]
    },
    {
      "cell_type": "markdown",
      "source": [
        "**Paragraphs**"
      ],
      "metadata": {
        "id": "Zx1V-twzu8FN"
      }
    },
    {
      "cell_type": "code",
      "source": [
        "paragraphs=[p.strip() for p in text.split('\\n\\n') if p]\n",
        "print(\"\\nparagraph Tokens:\")\n",
        "for i,para in enumerate(paragraph_tokens,1):\n",
        "  print(f\"{i},{para}\")"
      ],
      "metadata": {
        "colab": {
          "base_uri": "https://localhost:8080/"
        },
        "id": "zRdYyim_m1FG",
        "outputId": "7077567f-ac1c-43ee-e16a-46f96a66e041"
      },
      "execution_count": null,
      "outputs": [
        {
          "output_type": "stream",
          "name": "stdout",
          "text": [
            "\n",
            "paragraph Tokens:\n",
            "1,AI is playing a crucial role in transforming healthcare by helping doctors diagnose diseases early. Early detection of diseases like cancer, heart conditions, or even neurological disorders allows for more effective treatments and better outcomes for patients.\n",
            "2,Moreover, AI enables personalized treatment for each patient. By analyzing vast amounts of data, AI can help doctors create individualized treatment plans that are tailored to the unique needs of each person, improving the chances of successful treatment.\n",
            "3,This shift in how healthcare is approached can improve outcomes and reduce overall healthcare costs. By automating administrative tasks, improving diagnostic accuracy, and helping to streamline the treatment process, AI is making healthcare more efficient and accessible.\n",
            "4,Many hospitals now utilize AI to improve patient care. AI-driven tools like diagnostic algorithms, virtual health assistants, and predictive analytics are becoming an integral part of modern healthcare systems..\n",
            "\n"
          ]
        }
      ]
    },
    {
      "cell_type": "markdown",
      "source": [
        "**No of words present in the text**"
      ],
      "metadata": {
        "id": "YpFocFS6vBYV"
      }
    },
    {
      "cell_type": "code",
      "metadata": {
        "colab": {
          "base_uri": "https://localhost:8080/"
        },
        "id": "fa5c7345",
        "outputId": "fed04e10-1e6d-422a-8a64-b3d6fc08aad0"
      },
      "source": [
        "word_counts_manual = {}\n",
        "\n",
        "for word in word_tokens:\n",
        "    if word in word_counts_manual:\n",
        "        word_counts_manual[word] += 1\n",
        "    else:\n",
        "        word_counts_manual[word] = 1\n",
        "\n",
        "print(word_counts_manual)\n",
        "print(\"Total_Words:\",sum(word_counts_manual.values()))\n",
        "print(\"Distinct_words:\",len(word_counts_manual))"
      ],
      "execution_count": null,
      "outputs": [
        {
          "output_type": "stream",
          "name": "stdout",
          "text": [
            "{'AI': 5, 'is': 3, 'playing': 1, 'a': 1, 'crucial': 1, 'role': 1, 'in': 2, 'transforming': 1, 'healthcare': 5, 'by': 1, 'helping': 2, 'doctors': 2, 'diagnose': 1, 'diseases': 2, 'early': 1, '.': 7, 'Early': 1, 'detection': 1, 'of': 5, 'like': 2, 'cancer': 1, ',': 10, 'heart': 1, 'conditions': 1, 'or': 1, 'even': 1, 'neurological': 1, 'disorders': 1, 'allows': 1, 'for': 3, 'more': 2, 'effective': 1, 'treatments': 1, 'and': 5, 'better': 1, 'outcomes': 2, 'patients': 1, 'Moreover': 1, 'enables': 1, 'personalized': 1, 'treatment': 4, 'each': 2, 'patient': 2, 'By': 2, 'analyzing': 1, 'vast': 1, 'amounts': 1, 'data': 1, 'can': 2, 'help': 1, 'create': 1, 'individualized': 1, 'plans': 1, 'that': 1, 'are': 2, 'tailored': 1, 'to': 3, 'the': 3, 'unique': 1, 'needs': 1, 'person': 1, 'improving': 2, 'chances': 1, 'successful': 1, 'This': 1, 'shift': 1, 'how': 1, 'approached': 1, 'improve': 2, 'reduce': 1, 'overall': 1, 'costs': 1, 'automating': 1, 'administrative': 1, 'tasks': 1, 'diagnostic': 2, 'accuracy': 1, 'streamline': 1, 'process': 1, 'making': 1, 'efficient': 1, 'accessible': 1, 'Many': 1, 'hospitals': 1, 'now': 1, 'utilize': 1, 'care': 1, 'AI-driven': 1, 'tools': 1, 'algorithms': 1, 'virtual': 1, 'health': 1, 'assistants': 1, 'predictive': 1, 'analytics': 1, 'becoming': 1, 'an': 1, 'integral': 1, 'part': 1, 'modern': 1, 'systems': 1, '..': 1}\n",
            "Total_Words: 159\n",
            "Distinct_words: 102\n"
          ]
        }
      ]
    },
    {
      "cell_type": "markdown",
      "source": [
        "**Before preprocessing**"
      ],
      "metadata": {
        "id": "kAFUwqSH6OuW"
      }
    },
    {
      "cell_type": "code",
      "metadata": {
        "colab": {
          "base_uri": "https://localhost:8080/"
        },
        "id": "a1ce1a0a",
        "outputId": "cc8b110f-fe30-4fa5-c3b1-20c25f39862b"
      },
      "source": [
        "# Count total words\n",
        "total_words = len(word_tokens)\n",
        "\n",
        "# Count distinct words\n",
        "distinct_words = len(set(word_tokens))\n",
        "\n",
        "print(f\"Total number of words: {total_words}\")\n",
        "print(f\"Number of distinct words: {distinct_words}\")"
      ],
      "execution_count": null,
      "outputs": [
        {
          "output_type": "stream",
          "name": "stdout",
          "text": [
            "Total number of words: 159\n",
            "Number of distinct words: 102\n"
          ]
        }
      ]
    },
    {
      "cell_type": "markdown",
      "source": [
        "**Before removing stopwords only punctuations removed**"
      ],
      "metadata": {
        "id": "aWFT3AhM6ifV"
      }
    },
    {
      "cell_type": "code",
      "source": [
        "cleaned_words=[word for word in word_tokens if word.isalpha()]\n",
        "total_words=len(cleaned_words)\n",
        "distinct_words=len(set(cleaned_words))\n",
        "print(\"===Word Analysis===\")\n",
        "print(f\"Total number of words: {total_words}\")\n",
        "print(f\"Number of distinct words: {distinct_words}\")\n",
        "print(\"Cleaned words:\",cleaned_words)\n",
        "print(\"cleaned Distinct Words:\",set(cleaned_words))"
      ],
      "metadata": {
        "colab": {
          "base_uri": "https://localhost:8080/"
        },
        "id": "IW3D78WE1dWf",
        "outputId": "91ecd3d5-ff18-415d-abd4-0ad931888d48"
      },
      "execution_count": null,
      "outputs": [
        {
          "output_type": "stream",
          "name": "stdout",
          "text": [
            "===Word Analysis===\n",
            "Total number of words: 140\n",
            "Number of distinct words: 98\n",
            "Cleaned words: ['AI', 'is', 'playing', 'a', 'crucial', 'role', 'in', 'transforming', 'healthcare', 'by', 'helping', 'doctors', 'diagnose', 'diseases', 'early', 'Early', 'detection', 'of', 'diseases', 'like', 'cancer', 'heart', 'conditions', 'or', 'even', 'neurological', 'disorders', 'allows', 'for', 'more', 'effective', 'treatments', 'and', 'better', 'outcomes', 'for', 'patients', 'Moreover', 'AI', 'enables', 'personalized', 'treatment', 'for', 'each', 'patient', 'By', 'analyzing', 'vast', 'amounts', 'of', 'data', 'AI', 'can', 'help', 'doctors', 'create', 'individualized', 'treatment', 'plans', 'that', 'are', 'tailored', 'to', 'the', 'unique', 'needs', 'of', 'each', 'person', 'improving', 'the', 'chances', 'of', 'successful', 'treatment', 'This', 'shift', 'in', 'how', 'healthcare', 'is', 'approached', 'can', 'improve', 'outcomes', 'and', 'reduce', 'overall', 'healthcare', 'costs', 'By', 'automating', 'administrative', 'tasks', 'improving', 'diagnostic', 'accuracy', 'and', 'helping', 'to', 'streamline', 'the', 'treatment', 'process', 'AI', 'is', 'making', 'healthcare', 'more', 'efficient', 'and', 'accessible', 'Many', 'hospitals', 'now', 'utilize', 'AI', 'to', 'improve', 'patient', 'care', 'tools', 'like', 'diagnostic', 'algorithms', 'virtual', 'health', 'assistants', 'and', 'predictive', 'analytics', 'are', 'becoming', 'an', 'integral', 'part', 'of', 'modern', 'healthcare', 'systems']\n",
            "cleaned Distinct Words: {'early', 'healthcare', 'how', 'now', 'data', 'care', 'algorithms', 'patients', 'by', 'playing', 'for', 'costs', 'tasks', 'crucial', 'create', 'Early', 'utilize', 'helping', 'treatments', 'shift', 'By', 'improving', 'approached', 'Moreover', 'chances', 'neurological', 'systems', 'transforming', 'help', 'improve', 'overall', 'each', 'making', 'can', 'heart', 'doctors', 'effective', 'or', 'reduce', 'an', 'better', 'and', 'tools', 'more', 'successful', 'outcomes', 'hospitals', 'even', 'unique', 'This', 'cancer', 'tailored', 'enables', 'health', 'disorders', 'streamline', 'process', 'predictive', 'plans', 'becoming', 'person', 'of', 'treatment', 'patient', 'assistants', 'detection', 'efficient', 'in', 'part', 'a', 'like', 'virtual', 'automating', 'conditions', 'diseases', 'vast', 'role', 'accuracy', 'individualized', 'diagnostic', 'are', 'analytics', 'integral', 'to', 'is', 'needs', 'AI', 'administrative', 'diagnose', 'amounts', 'personalized', 'accessible', 'that', 'allows', 'the', 'analyzing', 'modern', 'Many'}\n"
          ]
        }
      ]
    },
    {
      "cell_type": "markdown",
      "source": [
        "**After removing Stopwords**"
      ],
      "metadata": {
        "id": "ZK2Wfb8W6ktX"
      }
    },
    {
      "cell_type": "code",
      "source": [
        "from nltk.corpus import stopwords\n",
        "nltk.download('stopwords')\n",
        "stop_words = set(stopwords.words('english'))"
      ],
      "metadata": {
        "colab": {
          "base_uri": "https://localhost:8080/"
        },
        "id": "svzFCbva4dI9",
        "outputId": "d176dc38-5f54-44f8-e41d-a7ca5e448899"
      },
      "execution_count": null,
      "outputs": [
        {
          "output_type": "stream",
          "name": "stderr",
          "text": [
            "[nltk_data] Downloading package stopwords to /root/nltk_data...\n",
            "[nltk_data]   Package stopwords is already up-to-date!\n"
          ]
        }
      ]
    },
    {
      "cell_type": "code",
      "source": [
        "filtered_words=[w for w in cleaned_words if w not in stop_words]\n",
        "print(\"Filtered words:\",len(filtered_words))\n",
        "print(\"Filtered Distinct Words:\",len(set(filtered_words)))"
      ],
      "metadata": {
        "colab": {
          "base_uri": "https://localhost:8080/"
        },
        "id": "9_NYOLxI5yNO",
        "outputId": "efffa6ba-a8c5-4126-ca11-b35e0b6f4dad"
      },
      "execution_count": null,
      "outputs": [
        {
          "output_type": "stream",
          "name": "stdout",
          "text": [
            "Filtered words: 101\n",
            "Filtered Distinct Words: 80\n"
          ]
        }
      ]
    }
  ]
}